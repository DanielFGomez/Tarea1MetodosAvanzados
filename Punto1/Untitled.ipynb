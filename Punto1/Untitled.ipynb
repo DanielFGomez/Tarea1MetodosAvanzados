{
 "cells": [
  {
   "cell_type": "code",
   "execution_count": 1,
   "metadata": {
    "collapsed": false
   },
   "outputs": [
    {
     "name": "stderr",
     "output_type": "stream",
     "text": [
      "/usr/local/lib/python2.7/dist-packages/matplotlib/font_manager.py:273: UserWarning: Matplotlib is building the font cache using fc-list. This may take a moment.\n",
      "  warnings.warn('Matplotlib is building the font cache using fc-list. This may take a moment.')\n"
     ]
    }
   ],
   "source": [
    "import numpy as np\n",
    "import matplotlib.pyplot as plt\n",
    "from scipy.optimize import fsolve"
   ]
  },
  {
   "cell_type": "code",
   "execution_count": 2,
   "metadata": {
    "collapsed": false
   },
   "outputs": [],
   "source": [
    "# Analytic solution to Sod's Shock Tube problem\n",
    "# reference: \"http://www.phys.lsu.edu/~tohline/PHYS7412/sod.html\"\n",
    "\n",
    "t=1\n",
    "\n",
    "# initial conditions\n",
    "x0 = 2;\n",
    "rho_l = 1;\n",
    "P_l = 1;\n",
    "u_l = 0;\n",
    "\n",
    "rho_r = 0.125;\n",
    "P_r = 0.1;\n",
    "u_r = 0;\n",
    "\n",
    "gamma = 1.4;\n",
    "mu = np.sqrt( (gamma-1)/(gamma+1) );"
   ]
  },
  {
   "cell_type": "code",
   "execution_count": 3,
   "metadata": {
    "collapsed": true
   },
   "outputs": [],
   "source": [
    "def sod_fun(P):\n",
    "\t# defines function to be used with fsolve\n",
    "\t# initial conditions\n",
    "\trho_l = 1;\n",
    "\tP_l = 1;\n",
    "\tu_l = 0;\n",
    "\n",
    "\trho_r = 0.125;\n",
    "\tP_r = 0.1;\n",
    "\tu_r = 0;\n",
    "\n",
    "\tgamma = 1.4;\n",
    "\n",
    "\tmu = np.sqrt( (gamma-1)/(gamma+1) );\n",
    "\n",
    "\treturn (P - P_r)*(( ((1 - mu**2)**2)*((rho_r*(P + mu*mu*P_r))**-1) )**(0.5)) - 2*(np.sqrt(gamma)/(gamma - 1))*(1 - P**((gamma - 1)/(2*gamma)));"
   ]
  },
  {
   "cell_type": "code",
   "execution_count": 4,
   "metadata": {
    "collapsed": false
   },
   "outputs": [],
   "source": [
    "# speed of sound\n",
    "c_l = pow( (gamma*P_l/rho_l),0.5);\n",
    "c_r = pow( (gamma*P_r/rho_r),0.5);\n",
    "\n",
    "P_post = fsolve(sod_fun,(P_l+P_r)/2.0);\n",
    "v_post = 2*(np.sqrt(gamma)/(gamma - 1))*(1 - pow(P_post, (gamma - 1)/(2*gamma)));\n",
    "rho_post = rho_r*(( (P_post/P_r) + mu**2 )/(1 + mu*mu*(P_post/P_r)));\n",
    "v_shock = v_post*((rho_post/rho_r)/( (rho_post/rho_r) - 1));\n",
    "rho_middle = (rho_l)*pow((P_post/P_l),1/gamma);"
   ]
  },
  {
   "cell_type": "code",
   "execution_count": 5,
   "metadata": {
    "collapsed": false
   },
   "outputs": [],
   "source": [
    "\n",
    "# key Positions\n",
    "x1 = x0 - c_l*t;\n",
    "x3 = x0 + v_post*t;\n",
    "x4 = x0 + v_shock*t;\n",
    "# determining x2\n",
    "c_2 = c_l - ((gamma - 1)/2)*v_post;\n",
    "x2 = x0 + (v_post - c_2)*t;\n",
    "\n",
    "n_points = 5000;\n",
    "x_min = 0.0;\n",
    "x_max = 4.0;"
   ]
  },
  {
   "cell_type": "code",
   "execution_count": 6,
   "metadata": {
    "collapsed": false
   },
   "outputs": [],
   "source": [
    "x = np.linspace(x_min,x_max,num=n_points);\n",
    "rho = np.zeros((n_points,1));\n",
    "P = np.zeros((n_points,1));\n",
    "u = np.zeros((n_points,1));\n",
    "e = np.zeros((n_points,1));"
   ]
  },
  {
   "cell_type": "code",
   "execution_count": 7,
   "metadata": {
    "collapsed": false
   },
   "outputs": [],
   "source": [
    "for index in range(n_points):\n",
    "    if x[index] < x1:\n",
    "        #Solution before expansion\n",
    "        rho[index] = rho_l;\n",
    "        P[index] = P_l;\n",
    "        u[index] = u_l;\n",
    "    elif (x1 <= x[index] and x[index] <= x2):\n",
    "        #Solution in the expansion fan\n",
    "        c = mu*mu*((x0 - x[index])/t) + (1 - mu*mu)*c_l; \n",
    "        rho[index] = rho_l*pow((c/c_l),2/(gamma - 1));\n",
    "        P[index] = P_l*pow((rho[index]/rho_l),gamma);\n",
    "        u[index] = (1 - mu*mu)*( (-(x0-x[index])/t) + c_l);\n",
    "    elif (x2 <= x[index] and x[index] <= x3):\n",
    "        #Solution between the expansion and the contact\n",
    "        rho[index] = rho_middle;\n",
    "        P[index] = P_post;\n",
    "        u[index] = v_post;\n",
    "    elif (x3 <= x[index] and x[index] <= x4):\n",
    "        #Solution between the contact and the shock\n",
    "        rho[index] = rho_post;\n",
    "        P[index] = P_post;\n",
    "        u[index] = v_post;\n",
    "    elif x4 < x[index]:\n",
    "        #Solution after shock\n",
    "        rho[index] = rho_r;\n",
    "        P[index] = P_r;\n",
    "        u[index] = u_r;\n",
    "    e[index] = P[index]/((gamma - 1)*rho[index]);"
   ]
  },
  {
   "cell_type": "code",
   "execution_count": 8,
   "metadata": {
    "collapsed": false
   },
   "outputs": [],
   "source": [
    "plt.plot(e)\n",
    "plt.show()"
   ]
  },
  {
   "cell_type": "code",
   "execution_count": 9,
   "metadata": {
    "collapsed": true
   },
   "outputs": [],
   "source": [
    "plt.plot(u)\n",
    "plt.show()"
   ]
  },
  {
   "cell_type": "code",
   "execution_count": 10,
   "metadata": {
    "collapsed": true
   },
   "outputs": [],
   "source": [
    "plt.plot(P)\n",
    "plt.show()"
   ]
  },
  {
   "cell_type": "code",
   "execution_count": 11,
   "metadata": {
    "collapsed": true
   },
   "outputs": [],
   "source": [
    "plt.plot(rho)\n",
    "plt.show()"
   ]
  },
  {
   "cell_type": "code",
   "execution_count": 12,
   "metadata": {
    "collapsed": true
   },
   "outputs": [],
   "source": [
    "f = open(\"Analytic.dat\", \"w\")\n"
   ]
  },
  {
   "cell_type": "code",
   "execution_count": 20,
   "metadata": {
    "collapsed": false
   },
   "outputs": [],
   "source": [
    "for index in range(n_points):\n",
    "    f.write(str(index) + \"\\t\" + str(rho[index])[1:-1] + \"\\t\" + str(u[index])[1:-1] + \"\\t\" +\n",
    "            str(e[index])[1:-1] + \"\\t\" + str(P[index])[1:-1] + \"\\n\")"
   ]
  },
  {
   "cell_type": "code",
   "execution_count": 18,
   "metadata": {
    "collapsed": false
   },
   "outputs": [
    {
     "name": "stdout",
     "output_type": "stream",
     "text": [
      " 0.125\n"
     ]
    }
   ],
   "source": [
    "print str(rho[index])[1:-1]"
   ]
  },
  {
   "cell_type": "code",
   "execution_count": null,
   "metadata": {
    "collapsed": true
   },
   "outputs": [],
   "source": []
  }
 ],
 "metadata": {
  "kernelspec": {
   "display_name": "Python 2",
   "language": "python",
   "name": "python2"
  },
  "language_info": {
   "codemirror_mode": {
    "name": "ipython",
    "version": 2
   },
   "file_extension": ".py",
   "mimetype": "text/x-python",
   "name": "python",
   "nbconvert_exporter": "python",
   "pygments_lexer": "ipython2",
   "version": "2.7.6"
  }
 },
 "nbformat": 4,
 "nbformat_minor": 0
}
